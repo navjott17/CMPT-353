{
 "cells": [
  {
   "cell_type": "code",
   "execution_count": 1,
   "id": "ba61ee93",
   "metadata": {},
   "outputs": [],
   "source": [
    "import pandas as pd\n",
    "import matplotlib.pyplot as plt\n",
    "import re\n",
    "from scipy import stats"
   ]
  },
  {
   "cell_type": "code",
   "execution_count": 2,
   "id": "e72a6fc9",
   "metadata": {},
   "outputs": [],
   "source": [
    "data = pd.read_csv('dog_rates_tweets.csv')"
   ]
  },
  {
   "cell_type": "code",
   "execution_count": 3,
   "id": "f6d08b15",
   "metadata": {},
   "outputs": [],
   "source": [
    "def ratings_data(text):   \n",
    "    rate =  re.search(r'(\\d+(\\.\\d+)?)/10',text)\n",
    "    if rate:\n",
    "        rate_match = rate.group(0)\n",
    "        rate_split = rate_match.split('/')[0]\n",
    "        rate = float(rate_split)\n",
    "    return(rate)\n",
    "\n",
    "data['ratings'] = data['text'].apply(ratings_data)\n",
    "\n",
    "#reference from https://pythonguides.com/pandas-drop/#:~:text=The%20Pandas%20drop%20%28%29%20function%20in%20Python%20is,levels%20can%20be%20removed%20by%20specifying%20the%20level.\n",
    "new_data = data.dropna(subset=['ratings'])\n",
    "revised_data = new_data.drop(data[data['ratings'] > 25].index)\n",
    "data = revised_data"
   ]
  },
  {
   "cell_type": "code",
   "execution_count": 4,
   "id": "ab29b517",
   "metadata": {},
   "outputs": [],
   "source": [
    "#reference from https://datatofish.com/strings-to-datetime-pandas/#:~:text=1%20Collect%20the%20Data%20to%20be%20Converted%20To,Convert%20the%20Strings%20to%20Datetime%20in%20the%20DataFrame\n",
    "data.created_at = pd.to_datetime(data['created_at'], format='%Y-%m-%d %H:%M:%S')"
   ]
  },
  {
   "cell_type": "code",
   "execution_count": 5,
   "id": "1087fab0",
   "metadata": {},
   "outputs": [],
   "source": [
    "def to_timestamp(date_time):\n",
    "    d_t = date_time.timestamp()\n",
    "    return d_t\n",
    "\n",
    "data['timestamp'] = data['created_at'].apply(to_timestamp)"
   ]
  },
  {
   "cell_type": "markdown",
   "id": "6914f901",
   "metadata": {},
   "source": [
    "# Results"
   ]
  },
  {
   "cell_type": "code",
   "execution_count": 6,
   "id": "98f77110",
   "metadata": {},
   "outputs": [
    {
     "data": {
      "text/html": [
       "<div>\n",
       "<style scoped>\n",
       "    .dataframe tbody tr th:only-of-type {\n",
       "        vertical-align: middle;\n",
       "    }\n",
       "\n",
       "    .dataframe tbody tr th {\n",
       "        vertical-align: top;\n",
       "    }\n",
       "\n",
       "    .dataframe thead th {\n",
       "        text-align: right;\n",
       "    }\n",
       "</style>\n",
       "<table border=\"1\" class=\"dataframe\">\n",
       "  <thead>\n",
       "    <tr style=\"text-align: right;\">\n",
       "      <th></th>\n",
       "      <th>id</th>\n",
       "      <th>created_at</th>\n",
       "      <th>text</th>\n",
       "      <th>ratings</th>\n",
       "      <th>timestamp</th>\n",
       "      <th>prediction</th>\n",
       "    </tr>\n",
       "  </thead>\n",
       "  <tbody>\n",
       "    <tr>\n",
       "      <th>2</th>\n",
       "      <td>994363623421153280</td>\n",
       "      <td>2018-05-09 23:48:56</td>\n",
       "      <td>This is Louie. He has misplaced his Cheerio. W...</td>\n",
       "      <td>14.0</td>\n",
       "      <td>1.525910e+09</td>\n",
       "      <td>13.185763</td>\n",
       "    </tr>\n",
       "    <tr>\n",
       "      <th>7</th>\n",
       "      <td>993889039714578432</td>\n",
       "      <td>2018-05-08 16:23:07</td>\n",
       "      <td>This is Manny. He hasn’t seen your croissant. ...</td>\n",
       "      <td>13.0</td>\n",
       "      <td>1.525797e+09</td>\n",
       "      <td>13.181785</td>\n",
       "    </tr>\n",
       "    <tr>\n",
       "      <th>8</th>\n",
       "      <td>993629544463642624</td>\n",
       "      <td>2018-05-07 23:11:58</td>\n",
       "      <td>This is Libby. She leap. 14/10\\n(IG: libbythef...</td>\n",
       "      <td>14.0</td>\n",
       "      <td>1.525735e+09</td>\n",
       "      <td>13.179609</td>\n",
       "    </tr>\n",
       "    <tr>\n",
       "      <th>24</th>\n",
       "      <td>992198572664860672</td>\n",
       "      <td>2018-05-04 00:25:48</td>\n",
       "      <td>This is Rosie. She thought Coachella was this ...</td>\n",
       "      <td>13.0</td>\n",
       "      <td>1.525394e+09</td>\n",
       "      <td>13.167614</td>\n",
       "    </tr>\n",
       "    <tr>\n",
       "      <th>30</th>\n",
       "      <td>991744041351090177</td>\n",
       "      <td>2018-05-02 18:19:39</td>\n",
       "      <td>This is Riley. He’ll be your chauffeur this ev...</td>\n",
       "      <td>13.0</td>\n",
       "      <td>1.525285e+09</td>\n",
       "      <td>13.163804</td>\n",
       "    </tr>\n",
       "    <tr>\n",
       "      <th>...</th>\n",
       "      <td>...</td>\n",
       "      <td>...</td>\n",
       "      <td>...</td>\n",
       "      <td>...</td>\n",
       "      <td>...</td>\n",
       "      <td>...</td>\n",
       "    </tr>\n",
       "    <tr>\n",
       "      <th>7363</th>\n",
       "      <td>1032725635888803841</td>\n",
       "      <td>2018-08-23 20:25:53</td>\n",
       "      <td>This is Noodles. He had brain surgery earlier ...</td>\n",
       "      <td>14.0</td>\n",
       "      <td>1.535056e+09</td>\n",
       "      <td>13.507338</td>\n",
       "    </tr>\n",
       "    <tr>\n",
       "      <th>7369</th>\n",
       "      <td>1032310288652152832</td>\n",
       "      <td>2018-08-22 16:55:26</td>\n",
       "      <td>This is Pingo and Nina. They are believed to b...</td>\n",
       "      <td>14.0</td>\n",
       "      <td>1.534957e+09</td>\n",
       "      <td>13.503856</td>\n",
       "    </tr>\n",
       "    <tr>\n",
       "      <th>7381</th>\n",
       "      <td>1031696422813544448</td>\n",
       "      <td>2018-08-21 00:16:09</td>\n",
       "      <td>This is Nikita. She got caught in some wild fl...</td>\n",
       "      <td>13.0</td>\n",
       "      <td>1.534811e+09</td>\n",
       "      <td>13.498710</td>\n",
       "    </tr>\n",
       "    <tr>\n",
       "      <th>7431</th>\n",
       "      <td>1029767403545288706</td>\n",
       "      <td>2018-08-15 16:30:55</td>\n",
       "      <td>This is Winston. He came home for the first ti...</td>\n",
       "      <td>14.0</td>\n",
       "      <td>1.534351e+09</td>\n",
       "      <td>13.482540</td>\n",
       "    </tr>\n",
       "    <tr>\n",
       "      <th>7433</th>\n",
       "      <td>1029550934408486912</td>\n",
       "      <td>2018-08-15 02:10:45</td>\n",
       "      <td>RT @dog_rates: Here's a doggo realizing you ca...</td>\n",
       "      <td>13.0</td>\n",
       "      <td>1.534299e+09</td>\n",
       "      <td>13.480725</td>\n",
       "    </tr>\n",
       "  </tbody>\n",
       "</table>\n",
       "<p>1669 rows × 6 columns</p>\n",
       "</div>"
      ],
      "text/plain": [
       "                       id          created_at  \\\n",
       "2      994363623421153280 2018-05-09 23:48:56   \n",
       "7      993889039714578432 2018-05-08 16:23:07   \n",
       "8      993629544463642624 2018-05-07 23:11:58   \n",
       "24     992198572664860672 2018-05-04 00:25:48   \n",
       "30     991744041351090177 2018-05-02 18:19:39   \n",
       "...                   ...                 ...   \n",
       "7363  1032725635888803841 2018-08-23 20:25:53   \n",
       "7369  1032310288652152832 2018-08-22 16:55:26   \n",
       "7381  1031696422813544448 2018-08-21 00:16:09   \n",
       "7431  1029767403545288706 2018-08-15 16:30:55   \n",
       "7433  1029550934408486912 2018-08-15 02:10:45   \n",
       "\n",
       "                                                   text  ratings  \\\n",
       "2     This is Louie. He has misplaced his Cheerio. W...     14.0   \n",
       "7     This is Manny. He hasn’t seen your croissant. ...     13.0   \n",
       "8     This is Libby. She leap. 14/10\\n(IG: libbythef...     14.0   \n",
       "24    This is Rosie. She thought Coachella was this ...     13.0   \n",
       "30    This is Riley. He’ll be your chauffeur this ev...     13.0   \n",
       "...                                                 ...      ...   \n",
       "7363  This is Noodles. He had brain surgery earlier ...     14.0   \n",
       "7369  This is Pingo and Nina. They are believed to b...     14.0   \n",
       "7381  This is Nikita. She got caught in some wild fl...     13.0   \n",
       "7431  This is Winston. He came home for the first ti...     14.0   \n",
       "7433  RT @dog_rates: Here's a doggo realizing you ca...     13.0   \n",
       "\n",
       "         timestamp  prediction  \n",
       "2     1.525910e+09   13.185763  \n",
       "7     1.525797e+09   13.181785  \n",
       "8     1.525735e+09   13.179609  \n",
       "24    1.525394e+09   13.167614  \n",
       "30    1.525285e+09   13.163804  \n",
       "...            ...         ...  \n",
       "7363  1.535056e+09   13.507338  \n",
       "7369  1.534957e+09   13.503856  \n",
       "7381  1.534811e+09   13.498710  \n",
       "7431  1.534351e+09   13.482540  \n",
       "7433  1.534299e+09   13.480725  \n",
       "\n",
       "[1669 rows x 6 columns]"
      ]
     },
     "execution_count": 6,
     "metadata": {},
     "output_type": "execute_result"
    }
   ],
   "source": [
    "fit = stats.linregress(data['timestamp'], data['ratings'])\n",
    "data['prediction'] = data['timestamp']*fit.slope + fit.intercept\n",
    "data"
   ]
  },
  {
   "cell_type": "code",
   "execution_count": 7,
   "id": "4c0de937",
   "metadata": {},
   "outputs": [
    {
     "data": {
      "text/plain": [
       "(3.515929974847721e-08, -40.46415480898916)"
      ]
     },
     "execution_count": 7,
     "metadata": {},
     "output_type": "execute_result"
    }
   ],
   "source": [
    "fit.slope, fit.intercept"
   ]
  },
  {
   "cell_type": "code",
   "execution_count": 8,
   "id": "79d4d312",
   "metadata": {},
   "outputs": [
    {
     "data": {
      "image/png": "[encoded data removed]",
      "text/plain": [
       "<Figure size 432x288 with 1 Axes>"
      ]
     },
     "metadata": {
      "needs_background": "light"
     },
     "output_type": "display_data"
    }
   ],
   "source": [
    "plt.xticks(rotation=25)\n",
    "plt.plot(data['created_at'], data['ratings'] , 'b.', alpha=0.5)\n",
    "plt.plot(data['created_at'], data['prediction'], 'r-', linewidth=3)\n",
    "plt.show()"
   ]
  },
  {
   "cell_type": "code",
   "execution_count": null,
   "id": "1537dfa4",
   "metadata": {},
   "outputs": [],
   "source": []
  }
 ],
 "metadata": {
  "kernelspec": {
   "display_name": "Python 3",
   "language": "python",
   "name": "python3"
  },
  "language_info": {
   "codemirror_mode": {
    "name": "ipython",
    "version": 3
   },
   "file_extension": ".py",
   "mimetype": "text/x-python",
   "name": "python",
   "nbconvert_exporter": "python",
   "pygments_lexer": "ipython3",
   "version": "3.8.8"
  }
 },
 "nbformat": 4,
 "nbformat_minor": 5
}
